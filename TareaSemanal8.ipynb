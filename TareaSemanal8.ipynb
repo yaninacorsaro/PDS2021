{
 "cells": [
  {
   "cell_type": "markdown",
   "metadata": {},
   "source": [
    "# Tarea Semanal 8"
   ]
  },
  {
   "cell_type": "markdown",
   "metadata": {},
   "source": [
    "Yanina Corsaro"
   ]
  },
  {
   "cell_type": "markdown",
   "metadata": {},
   "source": [
    "4) Evalue el siguiente estimador de frecuencia de una senoidal contaminada por ruido incorrelado.\n",
    "Para una señal x(k)=a1⋅sen(Ω1⋅k)+n(k)\n",
    "\n",
    "siendo \n",
    "\n",
    "Ω1=Ω0+fr⋅2πN\n",
    "\n",
    "\n",
    "Ω0=π2\n",
    "\n",
    "\n",
    "y las variables aleatorias definidas por\n",
    "\n",
    "fr∼U(−12,12)\n",
    "\n",
    "\n",
    "n∼N(0,σ2)\n",
    "\n",
    "\n",
    "Evalúe el siguiente estimador de Ω1\n",
    "\n",
    "Ω^W1=arg maxf{PW^}\n",
    "\n",
    "\n",
    "basado en el periodograma de Welch evaluado en el TP3. Del mismo modo, evalúe otro estimador de la PSD para crear otro estimador de Ω1\n",
    "\n",
    "Ω^X1=arg maxf{PX^}\n",
    "\n",
    "\n",
    "Considere 200 realizaciones de 1000 muestras para cada experimento. Cada realización debe tener un SNR tal que el pico de la senoidal esté 3 y 10 db por encima del piso de ruido impuesto por n(k).\n",
    "\n",
    "a) ¿Qué estimador ha elegido? Explique brevemente los fundamentos principales y el enfoque del método elegido.\n",
    "\n",
    "b) ¿Qué indicador considera que sería apropiado para poder comparar el rendimiento de ambos estimadores ij?"
   ]
  },
  {
   "cell_type": "code",
   "execution_count": 1,
   "metadata": {},
   "outputs": [],
   "source": [
    "import numpy as np\n",
    "import matplotlib.pyplot as plt\n",
    "import matplotlib as mpl\n",
    "import math\n",
    "from sen import mi_funcion_sen\n",
    "import scipy.signal as sig\n",
    "from scipy.fftpack import fft, fftfreq\n",
    "from pandas import DataFrame\n",
    "from IPython.display import HTML\n",
    "\n",
    "mpl.rcParams['figure.figsize'] = (15,7) \n",
    "\n",
    "# parámetros de la senoidal\n",
    "N  = 1000 # muestras\n",
    "fs = 1000 # Hz\n",
    "dt = 1/(fs)\n",
    "df = fs/N # resolución espectral\n",
    "a0 = 2\n",
    "m = 200 # muestras variable aleatoria"
   ]
  },
  {
   "cell_type": "code",
   "execution_count": null,
   "metadata": {},
   "outputs": [],
   "source": []
  }
 ],
 "metadata": {
  "kernelspec": {
   "display_name": "Python 3",
   "language": "python",
   "name": "python3"
  },
  "language_info": {
   "codemirror_mode": {
    "name": "ipython",
    "version": 3
   },
   "file_extension": ".py",
   "mimetype": "text/x-python",
   "name": "python",
   "nbconvert_exporter": "python",
   "pygments_lexer": "ipython3",
   "version": "3.7.6"
  }
 },
 "nbformat": 4,
 "nbformat_minor": 4
}
