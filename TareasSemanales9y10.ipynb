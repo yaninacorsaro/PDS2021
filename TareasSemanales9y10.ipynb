{
 "cells": [
  {
   "cell_type": "markdown",
   "metadata": {},
   "source": [
    "# Tareas Semanales 9 y 10"
   ]
  },
  {
   "cell_type": "markdown",
   "metadata": {},
   "source": [
    "Yanina Corsaro"
   ]
  },
  {
   "cell_type": "markdown",
   "metadata": {},
   "source": [
    "TS9\n",
    "\n",
    "4) En el archivo ECG_TP4.mat encontrará un registro electrocardiográfico (ECG) registrado durante una prueba de esfuerzo, junto con una serie de variables descriptas a continuación. Diseñe y aplique los filtros digitales necesarios para mitigar las siguientes fuentes de contaminación:\n",
    "\n",
    "Ruido causado por el movimiento de los electrodos (Alta frecuencia)\n",
    "Ruido muscular (Alta frecuencia)\n",
    "Movimiento de la línea de base del ECG, inducido en parte por la respiración (Baja frecuencia)\n",
    "\n",
    "Ayuda: Los latidos presentes en el registro de ECG, alineados y clasificados (de origen normal y ventricular) poseen las siguientes características temporales y frecuenciales:\n",
    "\n",
    "(variables)\n",
    "\n",
    "ecg_lead: Registro de ECG muestreado a $fs=1$ KHz durante una prueba de esfuerzo\n",
    "qrs_pattern1: Complejo de ondas QRS normal\n",
    "heartbeat_pattern1: Latido normal\n",
    "heartbeat_pattern2: Latido de origen ventricular\n",
    "qrs_detections: vector con las localizaciones (en # de muestras) donde ocurren los latidos\n",
    "\n",
    "\n",
    "a) Establezca una plantilla de diseño para los filtros digitales que necesitará para que la señal de ECG se asemeje a los latidos promedio en cuanto a suavidad de los trazos y nivel isoeléctrico nulo.\n",
    "\n",
    "Planilla del filtro:\n",
    "\n",
    "fs0 = ?? # fin de la banda de detenida 0\n",
    "fc0 = ?? # comienzo de la banda de paso\n",
    "fc1 = ?? # fin de la banda de paso\n",
    "fs1 = ?? # comienzo de la banda de detenida 1\n",
    "\n",
    "Ayuda: Utilice algún estimador de la densidad espectral de potencia (Welch. Blackman-Tukey) para lograr un espectro con la mayor resolución espectral. Puede considerar al ancho de banda del ECG como la banda que contenga más del 90% de la potencia de la señal."
   ]
  },
  {
   "cell_type": "code",
   "execution_count": null,
   "metadata": {},
   "outputs": [],
   "source": []
  },
  {
   "cell_type": "markdown",
   "metadata": {},
   "source": [
    "TS10\n",
    "\n",
    "c) Diseñe al menos dos filtros FIR y dos IIR para su comparación. Verifique que la respuesta en frecuencia responda a la plantilla de diseño\n",
    "\n",
    "d) Evalúe el rendimiento de los filtros que haya diseñado:\n",
    "\n",
    "Verifique que filtra las señales interferentes\n",
    "Verifique que es inocuo en las zonas donde no hay interferentes"
   ]
  },
  {
   "cell_type": "code",
   "execution_count": null,
   "metadata": {},
   "outputs": [],
   "source": []
  }
 ],
 "metadata": {
  "kernelspec": {
   "display_name": "Python 3",
   "language": "python",
   "name": "python3"
  },
  "language_info": {
   "codemirror_mode": {
    "name": "ipython",
    "version": 3
   },
   "file_extension": ".py",
   "mimetype": "text/x-python",
   "name": "python",
   "nbconvert_exporter": "python",
   "pygments_lexer": "ipython3",
   "version": "3.7.6"
  }
 },
 "nbformat": 4,
 "nbformat_minor": 4
}
