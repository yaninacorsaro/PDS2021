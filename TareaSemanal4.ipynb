{
 "cells": [
  {
   "cell_type": "markdown",
   "id": "6278ea9b",
   "metadata": {},
   "source": [
    "# Tarea Semanal 4"
   ]
  },
  {
   "cell_type": "markdown",
   "id": "5d0bf415",
   "metadata": {},
   "source": [
    "Yanina Corsaro"
   ]
  },
  {
   "cell_type": "markdown",
   "id": "78c17cdb",
   "metadata": {},
   "source": [
    "1- Código del ADC creado en la TS3:"
   ]
  },
  {
   "cell_type": "code",
   "execution_count": 1,
   "id": "75265eef",
   "metadata": {},
   "outputs": [],
   "source": [
    "import numpy as np\n",
    "import matplotlib.pyplot as plt\n",
    "from sen import mi_funcion_sen\n",
    "import scipy.signal as sig\n",
    "\n",
    "def ADC(sr, Vf, bits):  \n",
    "    \n",
    "    #calculamos paso de cuantización\n",
    "    q = Vf/(2**(bits-1))\n",
    "    #cuantizamos la señal sr y normalizamos para que quede comprendida entre -Vf y +Vf\n",
    "    sq= np.rint(sr/q)*q\n",
    "\n",
    "    return sq"
   ]
  },
  {
   "cell_type": "markdown",
   "id": "1c929d9d",
   "metadata": {},
   "source": [
    "2- Creamos una senoidal contaminada con un nivel predeterminado de ruido."
   ]
  },
  {
   "cell_type": "code",
   "execution_count": null,
   "id": "e3171f20",
   "metadata": {},
   "outputs": [],
   "source": [
    "# parámetros de la función seno\n",
    "\n",
    "N  = 1000 # muestras\n",
    "fs = 1000 # Hz\n",
    "p0 = np.pi/4# radianes\n",
    "f0 = fs/N    # Hz\n",
    "V = 2  # Volt\n",
    "\n",
    "tt, xx= mi_funcion_sen( vmax=V , dc=0 , ff=f0 , ph=p0, nn=N , fs=fs )\n",
    "\n"
   ]
  }
 ],
 "metadata": {
  "kernelspec": {
   "display_name": "Python 3",
   "language": "python",
   "name": "python3"
  },
  "language_info": {
   "codemirror_mode": {
    "name": "ipython",
    "version": 3
   },
   "file_extension": ".py",
   "mimetype": "text/x-python",
   "name": "python",
   "nbconvert_exporter": "python",
   "pygments_lexer": "ipython3",
   "version": "3.8.8"
  }
 },
 "nbformat": 4,
 "nbformat_minor": 5
}
