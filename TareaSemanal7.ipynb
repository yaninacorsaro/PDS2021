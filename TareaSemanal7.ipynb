{
 "cells": [
  {
   "cell_type": "markdown",
   "metadata": {},
   "source": [
    "# Tarea semanal 7"
   ]
  },
  {
   "cell_type": "markdown",
   "metadata": {},
   "source": [
    "Yanina Corsaro"
   ]
  },
  {
   "cell_type": "markdown",
   "metadata": {},
   "source": [
    "3) Genere la siguiente señal\n",
    "x(k)=a0⋅sen(Ω1⋅k)\n",
    "siendo\n",
    "\n",
    "a0=2\n",
    "Ω1=Ω0+fr⋅2πN\n",
    "Ω0=π2\n",
    "y la variable aleatoria definida por la siguiente distribución de probabilidad\n",
    "\n",
    "fr∼U(−2,2)\n",
    "\n",
    "\n",
    "Considere 200 realizaciones (muestras tomadas de fr) para cada ventana analizada en la TS6. Se pide entonces:\n",
    "\n",
    "3.a) Grafique los histogramas de\n",
    "|Xiw(Ω0)|\n",
    "\n",
    "\n",
    "siendo\n",
    "\n",
    "|Xiw(Ω)|=|F{x(k)⋅wi(k)}|\n",
    "para la i-ésima ventana de las 5 utilizadas en la TS6. El sesgo y la varianza se definen para este caso como:\n",
    "\n",
    " Grafique los 5 histogramas juntos, o cuide que todos los gráficos tengan el mismo rango de valores en X para facilitar la comparación visual.\n",
    "3.b) Calcule experimentalmente el sesgo y la varianza del siguiente estimador:\n",
    "a0^=|Xiw(Ω0)|\n",
    "siendo\n",
    "\n",
    "sa=E{a0^}−a0\n",
    "\n",
    "va=var{a0^}=E{(a0^−E{a0^})2}\n",
    "y pueden aproximarse cuando consideramos los valores esperados como las medias muestrales\n",
    "\n",
    "E{a0^}=μa^=1M∑j=0M−1aj^\n",
    "\n",
    "sa=μa^−a0\n",
    "\n",
    "va=1M∑j=0M−1(aj^−μa^)2"
   ]
  },
  {
   "cell_type": "code",
   "execution_count": 15,
   "metadata": {},
   "outputs": [
    {
     "data": {
      "text/plain": [
       "Text(0, 0.5, '$|X(\\\\Omega)|$')"
      ]
     },
     "execution_count": 15,
     "metadata": {},
     "output_type": "execute_result"
    },
    {
     "data": {
      "image/png": "[encoded data removed]",
      "text/plain": [
       "<Figure size 1080x504 with 1 Axes>"
      ]
     },
     "metadata": {
      "needs_background": "light"
     },
     "output_type": "display_data"
    }
   ],
   "source": [
    "import numpy as np\n",
    "import matplotlib.pyplot as plt\n",
    "import matplotlib as mpl\n",
    "import math\n",
    "from sen import mi_funcion_sen\n",
    "import scipy.signal as sig\n",
    "from scipy.fftpack import fft, fftfreq\n",
    "from pandas import DataFrame\n",
    "from IPython.display import HTML\n",
    "\n",
    "mpl.rcParams['figure.figsize'] = (15,7) \n",
    "\n",
    "# parámetros de la senoidal\n",
    "N  = 1000 # muestras\n",
    "fs = 1000 # Hz\n",
    "dt = 1/(fs)\n",
    "df = fs/N # resolución espectral\n",
    "a0 = 2\n",
    "m = 200 # muestras variable aleatoria\n",
    "\n",
    "fr = np.random.uniform(low=-2, high=2, size=m)\n",
    "omega = np.pi*(0.5 + (fr*2/N))\n",
    "\n",
    "tt = np.linspace( 0, N-1,N)\n",
    "\n",
    "# calculo la senoidal y normalizo con dt porque sino quedaban valores muy grandes\n",
    "y= a0*np.sin( np.outer(tt, omega))*dt\n",
    "\n",
    "# multiplico y por las ventanas de la ts6\n",
    "rectangular = y*np.array(sig.boxcar(N)).reshape(N,1)\n",
    "bartlett = y*np.array(sig.bartlett(N)).reshape(N,1)\n",
    "hann = y*np.array(sig.hann(N)).reshape(N,1)\n",
    "blackman = y*np.array(sig.blackman(N)).reshape(N,1)\n",
    "flattop = y*np.array(sig.flattop(N)).reshape(N,1)\n",
    "\n",
    "# calculo la fft\n",
    "ff = fftfreq(N, d=dt)\n",
    "ft_rectangular = fft(rectangular,N,axis=0)\n",
    "ft_bartlett = fft(bartlett,N,axis=0)\n",
    "ft_hann = fft(hann,N,axis=0)\n",
    "ft_blackman = fft(blackman,N,axis=0)\n",
    "ft_flattop = fft(flattop,N,axis=0)\n",
    "\n",
    "# calculo los módulos de las fft\n",
    "ft_rectangular = np.abs(ft_rectangular)\n",
    "ft_bartlett = np.abs(ft_bartlett)\n",
    "ft_hann = np.abs(ft_hann)\n",
    "ft_blackman = np.abs(ft_blackman)\n",
    "ft_flattop = np.abs(ft_flattop)\n",
    "\n",
    "\n",
    "# grafico los histogramas\n",
    "\n",
    "plt.figure(1)\n",
    "\n",
    "plt.hist(ft_rectangular[250])\n",
    "plt.hist(ft_bartlett[250])\n",
    "plt.hist(ft_hann[250])\n",
    "plt.hist(ft_blackman[250])\n",
    "plt.hist(ft_flattop[250])\n",
    "\n",
    "plt.legend(['Rectangular','Bartlett','Hann','Blackman','Flattop'])\n",
    "plt.xlabel('Frecuencia (Hz)')\n",
    "plt.ylabel('$|X(\\Omega)|$')\n"
   ]
  },
  {
   "cell_type": "code",
   "execution_count": 14,
   "metadata": {},
   "outputs": [
    {
     "data": {
      "text/html": [
       "<table border=\"1\" class=\"dataframe\">\n",
       "  <thead>\n",
       "    <tr style=\"text-align: right;\">\n",
       "      <th></th>\n",
       "      <th>s</th>\n",
       "      <th>v</th>\n",
       "    </tr>\n",
       "  </thead>\n",
       "  <tbody>\n",
       "    <tr>\n",
       "      <th>Rectangular</th>\n",
       "      <td>-1.629937</td>\n",
       "      <td>0.106062</td>\n",
       "    </tr>\n",
       "    <tr>\n",
       "      <th>Bartlett</th>\n",
       "      <td>-1.782584</td>\n",
       "      <td>0.033968</td>\n",
       "    </tr>\n",
       "    <tr>\n",
       "      <th>Hann</th>\n",
       "      <td>-1.755835</td>\n",
       "      <td>0.031253</td>\n",
       "    </tr>\n",
       "    <tr>\n",
       "      <th>Blackman</th>\n",
       "      <td>-1.762474</td>\n",
       "      <td>0.017080</td>\n",
       "    </tr>\n",
       "    <tr>\n",
       "      <th>Flattop</th>\n",
       "      <td>-1.804659</td>\n",
       "      <td>0.000531</td>\n",
       "    </tr>\n",
       "  </tbody>\n",
       "</table>"
      ],
      "text/plain": [
       "<IPython.core.display.HTML object>"
      ]
     },
     "execution_count": 14,
     "metadata": {},
     "output_type": "execute_result"
    }
   ],
   "source": [
    "# calculo los parámetros pedidos: sesgo y varianza con las funciones de numpy\n",
    "\n",
    "wt = [ft_rectangular[250], ft_bartlett[250], ft_hann[250], ft_blackman[250], ft_flattop[250]]\n",
    "\n",
    "tus_resultados1 = []\n",
    "tus_resultados2 = []\n",
    "\n",
    "for w in wt:\n",
    "    tus_resultados1.append(np.mean(w)-a0)   \n",
    "    tus_resultados2.append(np.var(w)) \n",
    "\n",
    "# dataframe para visualizar los datos\n",
    "\n",
    "d = {'s':tus_resultados1, 'v':tus_resultados2}\n",
    "df = DataFrame(data = d,\n",
    "               index=['Rectangular',  \n",
    "                      'Bartlett', \n",
    "                      'Hann',\n",
    "                      'Blackman',\n",
    "                      'Flattop'])\n",
    "HTML(df.to_html())"
   ]
  }
 ],
 "metadata": {
  "kernelspec": {
   "display_name": "Python 3",
   "language": "python",
   "name": "python3"
  },
  "language_info": {
   "codemirror_mode": {
    "name": "ipython",
    "version": 3
   },
   "file_extension": ".py",
   "mimetype": "text/x-python",
   "name": "python",
   "nbconvert_exporter": "python",
   "pygments_lexer": "ipython3",
   "version": "3.7.6"
  }
 },
 "nbformat": 4,
 "nbformat_minor": 4
}
